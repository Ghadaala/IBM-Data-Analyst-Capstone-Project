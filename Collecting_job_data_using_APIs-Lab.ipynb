{
 "cells": [
  {
   "cell_type": "markdown",
   "metadata": {},
   "source": [
    "<p style=\"text-align:center\">\n",
    "    <a href=\"https://skills.network\" target=\"_blank\">\n",
    "    <img src=\"https://cf-courses-data.s3.us.cloud-object-storage.appdomain.cloud/assets/logos/SN_web_lightmode.png\" width=\"200\" alt=\"Skills Network Logo\">\n",
    "    </a>\n",
    "</p>\n"
   ]
  },
  {
   "cell_type": "markdown",
   "metadata": {},
   "source": [
    "# **Collecting Job Data Using APIs**\n"
   ]
  },
  {
   "cell_type": "markdown",
   "metadata": {},
   "source": [
    "Estimated time needed: **30** minutes\n"
   ]
  },
  {
   "cell_type": "markdown",
   "metadata": {},
   "source": [
    "## Objectives\n"
   ]
  },
  {
   "cell_type": "markdown",
   "metadata": {},
   "source": [
    "After completing this lab, you will be able to:\n"
   ]
  },
  {
   "cell_type": "markdown",
   "metadata": {},
   "source": [
    "*   Collect job data using Jobs API\n",
    "*   Store the collected data into an excel spreadsheet.\n"
   ]
  },
  {
   "cell_type": "markdown",
   "metadata": {},
   "source": [
    "><strong>Note: Before starting with the assignment make sure to read all the instructions and then move ahead with the coding part.</strong>\n"
   ]
  },
  {
   "cell_type": "markdown",
   "metadata": {},
   "source": [
    "#### Instructions\n"
   ]
  },
  {
   "cell_type": "markdown",
   "metadata": {},
   "source": [
    "To run the actual lab, firstly you need to click on the [Jobs_API](https://cf-courses-data.s3.us.cloud-object-storage.appdomain.cloud/IBM-DA0321EN-SkillsNetwork/labs/module%201/Accessing%20Data%20Using%20APIs/Jobs_API.ipynb) notebook link. The file contains flask code which is required to run the Jobs API data.\n",
    "\n",
    "Now, to run the code in the file that opens up follow the below steps.\n",
    "\n",
    "Step1: Download the file. \n",
    "\n",
    "Step2: Upload the file into your current Jupyter environment using the upload button in your Jupyter interface. Ensure that the file is in the same folder as your working .ipynb file.\n",
    "\n",
    "Step 2: If working in a local Jupyter environment, use the \"Upload\" button in your Jupyter interface to upload the Jobs_API notebook into the same folder as your current .ipynb file.\n",
    "\n",
    "<img src=\"https://cf-courses-data.s3.us.cloud-object-storage.appdomain.cloud/IBM-DA0321EN-SkillsNetwork/labs/module%201/Accessing%20Data%20Using%20APIs/Upload.PNG\">\n",
    "\n",
    "Step3:  Open the Jobs_API notebook, and run all the cells to start the Flask application. Once the server is running, you can access the API from the URL provided in the notebook.\n",
    "\n",
    "If you want to learn more about flask, which is optional, you can click on this link [here](https://cf-courses-data.s3.us.cloud-object-storage.appdomain.cloud/IBM-DA0321EN-SkillsNetwork/labs/module%201/Accessing%20Data%20Using%20APIs/FLASK_API.md.html).\n",
    "\n",
    "Once you run the flask code, you can start with your assignment.\n"
   ]
  },
  {
   "cell_type": "markdown",
   "metadata": {},
   "source": [
    "## Dataset Used in this Assignment\n",
    "\n",
    "The dataset used in this lab comes from the following source: https://www.kaggle.com/promptcloud/jobs-on-naukricom under the under a **Public Domain license**.\n",
    "\n",
    "> Note: We are using a modified subset of that dataset for the lab, so to follow the lab instructions successfully please use the dataset provided with the lab, rather than the dataset from the original source.\n",
    "\n",
    "The original dataset is a csv. We have converted the csv to json as per the requirement of the lab.\n"
   ]
  },
  {
   "cell_type": "markdown",
   "metadata": {},
   "source": [
    "## Warm-Up Exercise\n"
   ]
  },
  {
   "cell_type": "markdown",
   "metadata": {},
   "source": [
    "Before you attempt the actual lab, here is a fully solved warmup exercise that will help you to learn how to access an API.\n"
   ]
  },
  {
   "cell_type": "markdown",
   "metadata": {},
   "source": [
    "Using an API, let us find out who currently are on the International Space Station (ISS).<br> The API at [http://api.open-notify.org/astros.json](http://api.open-notify.org/astros.json?utm_medium=Exinfluencer&utm_source=Exinfluencer&utm_content=000026UJ&utm_term=10006555&utm_id=NA-SkillsNetwork-Channel-SkillsNetworkCoursesIBMDA0321ENSkillsNetwork21426264-2021-01-01&cm_mmc=Email_Newsletter-_-Developer_Ed%2BTech-_-WW_WW-_-SkillsNetwork-Courses-IBM-DA0321EN-SkillsNetwork-21426264&cm_mmca1=000026UJ&cm_mmca2=10006555&cm_mmca3=M12345678&cvosrc=email.Newsletter.M12345678&cvo_campaign=000026UJ) gives us the information of astronauts currently on ISS in json format.<br>\n",
    "You can read more about this API at [http://open-notify.org/Open-Notify-API/People-In-Space/](http://open-notify.org/Open-Notify-API/People-In-Space?utm_medium=Exinfluencer&utm_source=Exinfluencer&utm_content=000026UJ&utm_term=10006555&utm_id=NA-SkillsNetwork-Channel-SkillsNetworkCoursesIBMDA0321ENSkillsNetwork21426264-2021-01-01&cm_mmc=Email_Newsletter-_-Developer_Ed%2BTech-_-WW_WW-_-SkillsNetwork-Courses-IBM-DA0321EN-SkillsNetwork-21426264&cm_mmca1=000026UJ&cm_mmca2=10006555&cm_mmca3=M12345678&cvosrc=email.Newsletter.M12345678&cvo_campaign=000026UJ)\n"
   ]
  },
  {
   "cell_type": "code",
   "execution_count": 1,
   "metadata": {
    "tags": []
   },
   "outputs": [],
   "source": [
    "import requests # you need this module to make an API call\n",
    "import pandas as pd"
   ]
  },
  {
   "cell_type": "code",
   "execution_count": 2,
   "metadata": {
    "tags": []
   },
   "outputs": [],
   "source": [
    "api_url = \"http://api.open-notify.org/astros.json\" # this url gives use the astronaut data"
   ]
  },
  {
   "cell_type": "code",
   "execution_count": 3,
   "metadata": {
    "tags": []
   },
   "outputs": [],
   "source": [
    "response = requests.get(api_url) # Call the API using the get method and store the\n",
    "                                # output of the API call in a variable called response."
   ]
  },
  {
   "cell_type": "code",
   "execution_count": 4,
   "metadata": {
    "tags": []
   },
   "outputs": [],
   "source": [
    "if response.ok:             # if all is well() no errors, no network timeouts)\n",
    "    data = response.json()  # store the result in json format in a variable called data\n",
    "                            # the variable data is of type dictionary."
   ]
  },
  {
   "cell_type": "code",
   "execution_count": 5,
   "metadata": {
    "tags": []
   },
   "outputs": [
    {
     "name": "stdout",
     "output_type": "stream",
     "text": [
      "{'people': [{'craft': 'ISS', 'name': 'Oleg Kononenko'}, {'craft': 'ISS', 'name': 'Nikolai Chub'}, {'craft': 'ISS', 'name': 'Tracy Caldwell Dyson'}, {'craft': 'ISS', 'name': 'Matthew Dominick'}, {'craft': 'ISS', 'name': 'Michael Barratt'}, {'craft': 'ISS', 'name': 'Jeanette Epps'}, {'craft': 'ISS', 'name': 'Alexander Grebenkin'}, {'craft': 'ISS', 'name': 'Butch Wilmore'}, {'craft': 'ISS', 'name': 'Sunita Williams'}, {'craft': 'Tiangong', 'name': 'Li Guangsu'}, {'craft': 'Tiangong', 'name': 'Li Cong'}, {'craft': 'Tiangong', 'name': 'Ye Guangfu'}], 'number': 12, 'message': 'success'}\n"
     ]
    }
   ],
   "source": [
    "print(data)   # print the data just to check the output or for debugging"
   ]
  },
  {
   "cell_type": "markdown",
   "metadata": {},
   "source": [
    "Print the number of astronauts currently on ISS.\n"
   ]
  },
  {
   "cell_type": "code",
   "execution_count": 6,
   "metadata": {
    "tags": []
   },
   "outputs": [
    {
     "name": "stdout",
     "output_type": "stream",
     "text": [
      "12\n"
     ]
    }
   ],
   "source": [
    "print(data.get('number'))"
   ]
  },
  {
   "cell_type": "markdown",
   "metadata": {},
   "source": [
    "Print the names of the astronauts currently on ISS.\n"
   ]
  },
  {
   "cell_type": "code",
   "execution_count": 7,
   "metadata": {
    "tags": []
   },
   "outputs": [
    {
     "name": "stdout",
     "output_type": "stream",
     "text": [
      "There are 12 astronauts on ISS\n",
      "And their names are :\n",
      "Oleg Kononenko\n",
      "Nikolai Chub\n",
      "Tracy Caldwell Dyson\n",
      "Matthew Dominick\n",
      "Michael Barratt\n",
      "Jeanette Epps\n",
      "Alexander Grebenkin\n",
      "Butch Wilmore\n",
      "Sunita Williams\n",
      "Li Guangsu\n",
      "Li Cong\n",
      "Ye Guangfu\n"
     ]
    }
   ],
   "source": [
    "astronauts = data.get('people')\n",
    "print(\"There are {} astronauts on ISS\".format(len(astronauts)))\n",
    "print(\"And their names are :\")\n",
    "for astronaut in astronauts:\n",
    "    print(astronaut.get('name'))"
   ]
  },
  {
   "cell_type": "markdown",
   "metadata": {},
   "source": [
    "Hope the warmup was helpful. Good luck with your next lab!\n"
   ]
  },
  {
   "cell_type": "markdown",
   "metadata": {},
   "source": [
    "## Lab: Collect Jobs Data using Jobs API\n"
   ]
  },
  {
   "cell_type": "markdown",
   "metadata": {},
   "source": [
    "### Objective: Determine the number of jobs currently open for various technologies  and for various locations\n"
   ]
  },
  {
   "cell_type": "markdown",
   "metadata": {},
   "source": [
    "Collect the number of job postings for the following locations using the API:\n",
    "\n",
    "* Los Angeles\n",
    "* New York\n",
    "* San Francisco\n",
    "* Washington DC\n",
    "* Seattle\n",
    "* Austin\n",
    "* Detroit\n"
   ]
  },
  {
   "cell_type": "code",
   "execution_count": 8,
   "metadata": {
    "tags": []
   },
   "outputs": [],
   "source": [
    "#Import required libraries\n",
    "import pandas as pd\n",
    "import json\n"
   ]
  },
  {
   "cell_type": "markdown",
   "metadata": {},
   "source": [
    "#### Write a function to get the number of jobs for the Python technology.<br>\n",
    "> Note: While using the lab you need to pass the **payload** information for the **params** attribute in the form of **key** **value** pairs.\n",
    "  Refer the ungraded **rest api lab** in the course **Python for Data Science, AI & Development**  <a href=\"https://www.coursera.org/learn/python-for-applied-data-science-ai/ungradedLti/P6sW8/hands-on-lab-access-rest-apis-request-http?utm_medium=Exinfluencer&utm_source=Exinfluencer&utm_content=000026UJ&utm_term=10006555&utm_id=NA-SkillsNetwork-Channel-SkillsNetworkCoursesIBMDA0321ENSkillsNetwork928-2022-01-01\">link</a>\n",
    "  \n",
    " ##### The keys in the json are \n",
    " * Job Title\n",
    " \n",
    " * Job Experience Required\n",
    " \n",
    " * Key Skills\n",
    " \n",
    " * Role Category\n",
    " \n",
    " * Location\n",
    " \n",
    " * Functional Area\n",
    " \n",
    " * Industry\n",
    " \n",
    " * Role \n",
    " \n",
    "You can also view  the json file contents  from the following <a href = \"https://cf-courses-data.s3.us.cloud-object-storage.appdomain.cloud/IBM-DA0321EN-SkillsNetwork/labs/module%201/Accessing%20Data%20Using%20APIs/jobs.json\">json</a> URL.\n",
    "\n"
   ]
  },
  {
   "cell_type": "code",
   "execution_count": 10,
   "metadata": {
    "tags": []
   },
   "outputs": [
    {
     "name": "stdout",
     "output_type": "stream",
     "text": [
      "Collecting openpyxl\n",
      "  Downloading openpyxl-3.1.3-py2.py3-none-any.whl (251 kB)\n",
      "\u001b[2K     \u001b[90m━━━━━━━━━━━━━━━━━━━━━━━━━━━━━━━━━━━━━━\u001b[0m \u001b[32m251.3/251.3 kB\u001b[0m \u001b[31m33.0 MB/s\u001b[0m eta \u001b[36m0:00:00\u001b[0m\n",
      "\u001b[?25hCollecting et-xmlfile (from openpyxl)\n",
      "  Downloading et_xmlfile-1.1.0-py3-none-any.whl (4.7 kB)\n",
      "Installing collected packages: et-xmlfile, openpyxl\n",
      "Successfully installed et-xmlfile-1.1.0 openpyxl-3.1.3\n"
     ]
    }
   ],
   "source": [
    "!pip install openpyxl\n"
   ]
  },
  {
   "cell_type": "code",
   "execution_count": 17,
   "metadata": {
    "tags": []
   },
   "outputs": [
    {
     "name": "stdout",
     "output_type": "stream",
     "text": [
      "        Location Technology  Number of Jobs\n",
      "0    Los Angeles     Python               0\n",
      "1       New York     Python               0\n",
      "2  San Francisco     Python               0\n",
      "3  Washington DC     Python               0\n",
      "4        Seattle     Python               0\n",
      "5         Austin     Python               0\n",
      "6        Detroit     Python               0\n"
     ]
    }
   ],
   "source": [
    "import requests\n",
    "import pandas as pd\n",
    "\n",
    "# The API URL\n",
    "api_url = \"http://127.0.0.1:5000/data\"\n",
    "\n",
    "# Function to get the number of jobs for a specific technology\n",
    "def get_number_of_jobs_T(technology, location):\n",
    "    # Define the payload (parameters) to be sent with the request\n",
    "    payload = {\n",
    "        'Technology': technology,  # Technology name (e.g., Python)\n",
    "        'Location': location       # Location name (e.g., Los Angeles)\n",
    "    }\n",
    "    \n",
    "    # Make a GET request with the specified parameters\n",
    "    response = requests.get(api_url, params=payload)\n",
    "    \n",
    "    # Check if the request was successful\n",
    "    if response.ok:\n",
    "        # Convert the response to JSON format\n",
    "        data = response.json()\n",
    "        \n",
    "        # Extract the number of jobs from the response (you might need to adjust this based on the actual JSON structure)\n",
    "        number_of_jobs = data.get('job_count', 0)  # Ensure 'job_count' is present in the response\n",
    "        \n",
    "        return technology, location, number_of_jobs\n",
    "    else:\n",
    "        # In case of an error, return 0 jobs\n",
    "        return technology, location, 0\n",
    "\n",
    "# List of locations to gather job data for\n",
    "locations = ['Los Angeles', 'New York', 'San Francisco', 'Washington DC', 'Seattle', 'Austin', 'Detroit']\n",
    "technology = 'Python'\n",
    "\n",
    "# Collect the job data for all locations\n",
    "job_data = []\n",
    "for location in locations:\n",
    "    technology, location, number_of_jobs = get_number_of_jobs_T(technology, location)\n",
    "    job_data.append({\n",
    "        'Location': location,\n",
    "        'Technology': technology,\n",
    "        'Number of Jobs': number_of_jobs\n",
    "    })\n",
    "\n",
    "# Convert the job data into a pandas DataFrame\n",
    "df_jobs = pd.DataFrame(job_data)\n",
    "\n",
    "# Save the data to an Excel file\n",
    "df_jobs.to_excel('job_postings_for_python.xlsx', index=False)\n",
    "\n",
    "# Print the results\n",
    "print(df_jobs)\n",
    "\n",
    "\n",
    "\n",
    "\n"
   ]
  },
  {
   "cell_type": "markdown",
   "metadata": {},
   "source": [
    "Calling the function for Python and checking if it works.\n"
   ]
  },
  {
   "cell_type": "code",
   "execution_count": 18,
   "metadata": {
    "tags": []
   },
   "outputs": [
    {
     "ename": "TypeError",
     "evalue": "get_number_of_jobs_T() missing 1 required positional argument: 'location'",
     "output_type": "error",
     "traceback": [
      "\u001b[0;31m---------------------------------------------------------------------------\u001b[0m",
      "\u001b[0;31mTypeError\u001b[0m                                 Traceback (most recent call last)",
      "\u001b[0;32m/tmp/ipykernel_1218/1902359999.py\u001b[0m in \u001b[0;36m<module>\u001b[0;34m\u001b[0m\n\u001b[0;32m----> 1\u001b[0;31m \u001b[0mget_number_of_jobs_T\u001b[0m\u001b[0;34m(\u001b[0m\u001b[0;34m\"Python\"\u001b[0m\u001b[0;34m)\u001b[0m\u001b[0;34m\u001b[0m\u001b[0;34m\u001b[0m\u001b[0m\n\u001b[0m",
      "\u001b[0;31mTypeError\u001b[0m: get_number_of_jobs_T() missing 1 required positional argument: 'location'"
     ]
    }
   ],
   "source": [
    "get_number_of_jobs_T(\"Python\")"
   ]
  },
  {
   "cell_type": "markdown",
   "metadata": {},
   "source": [
    "#### Write a function to find number of jobs in US for a location of your choice\n"
   ]
  },
  {
   "cell_type": "code",
   "execution_count": 19,
   "metadata": {},
   "outputs": [
    {
     "name": "stdout",
     "output_type": "stream",
     "text": [
      "Number of jobs in Los Angeles: 640\n"
     ]
    }
   ],
   "source": [
    " #def get_number_of_jobs_L(location):\n",
    "    \n",
    "    #your coe goes here\n",
    "    #return location,number_of_jobs\n",
    "import requests\n",
    "\n",
    "def get_number_of_jobs_L(location):\n",
    "    api_url = \"http://127.0.0.1:5000/data\"\n",
    "    payload = {\"Location\": location}\n",
    "    \n",
    "    try:\n",
    "        # Send GET request to fetch data\n",
    "        response = requests.get(api_url, params=payload)\n",
    "        \n",
    "        if response.status_code == 200:\n",
    "            data = response.json()\n",
    "            \n",
    "            # Count the number of jobs that match the location\n",
    "            number_of_jobs = sum(1 for job in data if job.get(\"Location\") == location)\n",
    "            \n",
    "            return location, number_of_jobs\n",
    "        else:\n",
    "            print(f\"Error: {response.status_code}\")\n",
    "            return location, 0\n",
    "    except Exception as e:\n",
    "        print(f\"Error while fetching data: {e}\")\n",
    "        return location, 0\n",
    "\n",
    "# Use the function for \"Los Angeles\"\n",
    "location, number_of_jobs = get_number_of_jobs_L(\"Los Angeles\")\n",
    "print(f\"Number of jobs in {location}: {number_of_jobs}\")\n"
   ]
  },
  {
   "cell_type": "markdown",
   "metadata": {},
   "source": [
    "Call the function for Los Angeles and check if it is working.\n"
   ]
  },
  {
   "cell_type": "code",
   "execution_count": 20,
   "metadata": {},
   "outputs": [
    {
     "name": "stdout",
     "output_type": "stream",
     "text": [
      "Number of jobs in Los Angeles: 640\n"
     ]
    }
   ],
   "source": [
    "#your code goes here\n",
    "# Call the function for Los Angeles\n",
    "location, number_of_jobs = get_number_of_jobs_L(\"Los Angeles\")\n",
    "\n",
    "# Output the result\n",
    "print(f\"Number of jobs in {location}: {number_of_jobs}\")\n"
   ]
  },
  {
   "cell_type": "markdown",
   "metadata": {},
   "source": [
    "### Store the results in an excel file\n"
   ]
  },
  {
   "cell_type": "markdown",
   "metadata": {},
   "source": [
    "Call the API for all the given technologies above and write the results in an excel spreadsheet.\n"
   ]
  },
  {
   "cell_type": "markdown",
   "metadata": {},
   "source": [
    "If you do not know how create excel file using python, double click here for **hints**.\n",
    "\n",
    "<!--\n",
    "\n",
    "from openpyxl import Workbook        # import Workbook class from module openpyxl\n",
    "wb=Workbook()                        # create a workbook object\n",
    "ws=wb.active                         # use the active worksheet\n",
    "ws.append(['Country','Continent'])   # add a row with two columns 'Country' and 'Continent'\n",
    "ws.append(['Eygpt','Africa'])        # add a row with two columns 'Egypt' and 'Africa'\n",
    "ws.append(['India','Asia'])          # add another row\n",
    "ws.append(['France','Europe'])       # add another row\n",
    "wb.save(\"countries.xlsx\")            # save the workbook into a file called countries.xlsx\n",
    "\n",
    "\n",
    "-->\n"
   ]
  },
  {
   "cell_type": "markdown",
   "metadata": {},
   "source": [
    "Create a python list of all technologies for which you need to find the number of jobs postings.\n"
   ]
  },
  {
   "cell_type": "code",
   "execution_count": 23,
   "metadata": {},
   "outputs": [],
   "source": [
    "#your code goes here\n",
    "\n",
    "technologies = ['Python', 'Java', 'JavaScript', 'C++', 'SQL', 'Data Science', 'Machine Learning']\n",
    "\n"
   ]
  },
  {
   "cell_type": "markdown",
   "metadata": {},
   "source": [
    "Import libraries required to create excel spreadsheet\n"
   ]
  },
  {
   "cell_type": "code",
   "execution_count": 24,
   "metadata": {},
   "outputs": [],
   "source": [
    "# your code goes here\n",
    "# Importing the required libraries\n",
    "from openpyxl import Workbook  # To create and manage Excel workbooks\n",
    "import requests  # To make API requests\n"
   ]
  },
  {
   "cell_type": "markdown",
   "metadata": {},
   "source": [
    "Create a workbook and select the active worksheet\n"
   ]
  },
  {
   "cell_type": "code",
   "execution_count": 25,
   "metadata": {},
   "outputs": [],
   "source": [
    "# your code goes here\n",
    "from openpyxl import Workbook\n",
    "\n",
    "# Create a new workbook\n",
    "wb = Workbook()\n",
    "\n",
    "# Select the active worksheet\n",
    "ws = wb.active\n",
    "\n",
    "# Optionally, you can set the title of the worksheet\n",
    "ws.title = \"Job Postings\"\n",
    "\n",
    "# Now you can proceed with adding data to the worksheet\n"
   ]
  },
  {
   "cell_type": "markdown",
   "metadata": {},
   "source": [
    "Find the number of jobs postings for each of the technology in the above list.\n",
    "Write the technology name and the number of jobs postings into the excel spreadsheet.\n"
   ]
  },
  {
   "cell_type": "code",
   "execution_count": 26,
   "metadata": {},
   "outputs": [
    {
     "name": "stdout",
     "output_type": "stream",
     "text": [
      "Error fetching data for Python in Los Angeles: 500 Server Error: INTERNAL SERVER ERROR for url: http://127.0.0.1:5000/data?technology=Python&location=Los+Angeles\n",
      "Error fetching data for Java in Los Angeles: 500 Server Error: INTERNAL SERVER ERROR for url: http://127.0.0.1:5000/data?technology=Java&location=Los+Angeles\n",
      "Error fetching data for JavaScript in Los Angeles: 500 Server Error: INTERNAL SERVER ERROR for url: http://127.0.0.1:5000/data?technology=JavaScript&location=Los+Angeles\n",
      "Error fetching data for C++ in Los Angeles: 500 Server Error: INTERNAL SERVER ERROR for url: http://127.0.0.1:5000/data?technology=C%2B%2B&location=Los+Angeles\n",
      "Error fetching data for SQL in Los Angeles: 500 Server Error: INTERNAL SERVER ERROR for url: http://127.0.0.1:5000/data?technology=SQL&location=Los+Angeles\n",
      "Error fetching data for Data Science in Los Angeles: 500 Server Error: INTERNAL SERVER ERROR for url: http://127.0.0.1:5000/data?technology=Data+Science&location=Los+Angeles\n",
      "Error fetching data for Machine Learning in Los Angeles: 500 Server Error: INTERNAL SERVER ERROR for url: http://127.0.0.1:5000/data?technology=Machine+Learning&location=Los+Angeles\n",
      "Excel file 'job_postings_by_technology.xlsx' has been created.\n"
     ]
    }
   ],
   "source": [
    "#your code goes here\n",
    "import requests\n",
    "from openpyxl import Workbook\n",
    "\n",
    "# Updated list of technologies\n",
    "technologies = ['Python', 'Java', 'JavaScript', 'C++', 'SQL', 'Data Science', 'Machine Learning']\n",
    "\n",
    "# Create a new workbook and select the active worksheet\n",
    "wb = Workbook()\n",
    "ws = wb.active\n",
    "ws.title = \"Job Postings\"\n",
    "\n",
    "# Add headers to the Excel file\n",
    "ws.append([\"Technology\", \"Number of Jobs\"])\n",
    "\n",
    "# Function to get the number of jobs for a specific technology and location\n",
    "def get_number_of_jobs_L(technology, location=\"Los Angeles\"):\n",
    "    api_url = \"http://127.0.0.1:5000/data\"  # Replace with your actual API URL\n",
    "    params = {\"technology\": technology, \"location\": location}\n",
    "\n",
    "    try:\n",
    "        response = requests.get(api_url, params=params)\n",
    "        response.raise_for_status()\n",
    "        data = response.json()\n",
    "\n",
    "        # Assuming the API returns the data in a structure where the key 'Number of Jobs' exists\n",
    "        number_of_jobs = data.get(\"Number of Jobs\", 0)\n",
    "        return number_of_jobs\n",
    "    except requests.exceptions.RequestException as e:\n",
    "        print(f\"Error fetching data for {technology} in {location}: {e}\")\n",
    "        return 0  # Return 0 if there is an error\n",
    "\n",
    "# Iterate through each technology and fetch the number of job postings\n",
    "for tech in technologies:\n",
    "    number_of_jobs = get_number_of_jobs_L(tech)\n",
    "    # Write the technology and number of jobs to the Excel sheet\n",
    "    ws.append([tech, number_of_jobs])\n",
    "\n",
    "# Save the workbook to a file\n",
    "wb.save(\"job_postings_by_technology.xlsx\")\n",
    "print(\"Excel file 'job_postings_by_technology.xlsx' has been created.\")\n"
   ]
  },
  {
   "cell_type": "markdown",
   "metadata": {},
   "source": [
    "Save into an excel spreadsheet named **job-postings.xlsx**.\n"
   ]
  },
  {
   "cell_type": "code",
   "execution_count": 27,
   "metadata": {},
   "outputs": [
    {
     "name": "stdout",
     "output_type": "stream",
     "text": [
      "Excel file 'job-postings.xlsx' has been created.\n"
     ]
    }
   ],
   "source": [
    "#your code goes here\n",
    "import requests\n",
    "from openpyxl import Workbook\n",
    "\n",
    "# List of technologies to search for\n",
    "technologies = ['Python', 'Java', 'JavaScript', 'C++', 'SQL', 'Data Science', 'Machine Learning']\n",
    "\n",
    "# List of locations to search in\n",
    "locations = ['Los Angeles']\n",
    "\n",
    "# Create a new workbook and select the active worksheet\n",
    "wb = Workbook()\n",
    "ws = wb.active\n",
    "ws.title = \"Job Postings\"\n",
    "\n",
    "# Add headers to the Excel file\n",
    "ws.append(['Location', 'Technology', 'Number of Jobs'])\n",
    "\n",
    "# Function to fetch the number of job postings\n",
    "def get_number_of_jobs(location, technology):\n",
    "    try:\n",
    "        # API endpoint (make sure the server is up and running)\n",
    "        url = f\"http://127.0.0.1:5000/data?technology={technology}&location={location}\"\n",
    "        \n",
    "        # Sending GET request to the API\n",
    "        response = requests.get(url)\n",
    "        \n",
    "        # If the response status is OK, get the number of jobs from the response\n",
    "        if response.status_code == 200:\n",
    "            data = response.json()  # Assuming the response is in JSON format\n",
    "            number_of_jobs = data.get('job_count', 0)  # Extract the number of jobs or 0 if not available\n",
    "        else:\n",
    "            number_of_jobs = 0  # In case of error, set number of jobs to 0\n",
    "        \n",
    "    except requests.exceptions.RequestException as e:\n",
    "        print(f\"Error fetching data for {technology} in {location}: {e}\")\n",
    "        number_of_jobs = 0\n",
    "    \n",
    "    return location, technology, number_of_jobs\n",
    "\n",
    "# Loop over the technologies and locations and fetch job data\n",
    "for technology in technologies:\n",
    "    for location in locations:\n",
    "        location, technology, number_of_jobs = get_number_of_jobs(location, technology)\n",
    "        \n",
    "        # Append the data to the Excel sheet\n",
    "        ws.append([location, technology, number_of_jobs])\n",
    "\n",
    "# Save the workbook to a file\n",
    "wb.save(\"job-postings.xlsx\")\n",
    "print(\"Excel file 'job-postings.xlsx' has been created.\")\n"
   ]
  },
  {
   "cell_type": "markdown",
   "metadata": {},
   "source": [
    "#### In the similar way, you can try for below given technologies and results  can be stored in an excel sheet.\n"
   ]
  },
  {
   "cell_type": "markdown",
   "metadata": {},
   "source": [
    "Collect the number of job postings for the following languages using the API:\n",
    "\n",
    "*   C\n",
    "*   C#\n",
    "*   C++\n",
    "*   Java\n",
    "*   JavaScript\n",
    "*   Python\n",
    "*   Scala\n",
    "*   Oracle\n",
    "*   SQL Server\n",
    "*   MySQL Server\n",
    "*   PostgreSQL\n",
    "*   MongoDB\n"
   ]
  },
  {
   "cell_type": "code",
   "execution_count": 28,
   "metadata": {},
   "outputs": [
    {
     "name": "stdout",
     "output_type": "stream",
     "text": [
      "HTTP error occurred: 500 Server Error: INTERNAL SERVER ERROR for url: http://127.0.0.1:5000/data?technology=C&location=Los+Angeles\n",
      "HTTP error occurred: 500 Server Error: INTERNAL SERVER ERROR for url: http://127.0.0.1:5000/data?technology=C%23&location=Los+Angeles\n",
      "HTTP error occurred: 500 Server Error: INTERNAL SERVER ERROR for url: http://127.0.0.1:5000/data?technology=C%2B%2B&location=Los+Angeles\n",
      "HTTP error occurred: 500 Server Error: INTERNAL SERVER ERROR for url: http://127.0.0.1:5000/data?technology=Java&location=Los+Angeles\n",
      "HTTP error occurred: 500 Server Error: INTERNAL SERVER ERROR for url: http://127.0.0.1:5000/data?technology=JavaScript&location=Los+Angeles\n",
      "HTTP error occurred: 500 Server Error: INTERNAL SERVER ERROR for url: http://127.0.0.1:5000/data?technology=Python&location=Los+Angeles\n",
      "HTTP error occurred: 500 Server Error: INTERNAL SERVER ERROR for url: http://127.0.0.1:5000/data?technology=Scala&location=Los+Angeles\n",
      "HTTP error occurred: 500 Server Error: INTERNAL SERVER ERROR for url: http://127.0.0.1:5000/data?technology=Oracle&location=Los+Angeles\n",
      "HTTP error occurred: 500 Server Error: INTERNAL SERVER ERROR for url: http://127.0.0.1:5000/data?technology=SQL+Server&location=Los+Angeles\n",
      "HTTP error occurred: 500 Server Error: INTERNAL SERVER ERROR for url: http://127.0.0.1:5000/data?technology=MySQL+Server&location=Los+Angeles\n",
      "HTTP error occurred: 500 Server Error: INTERNAL SERVER ERROR for url: http://127.0.0.1:5000/data?technology=PostgreSQL&location=Los+Angeles\n",
      "HTTP error occurred: 500 Server Error: INTERNAL SERVER ERROR for url: http://127.0.0.1:5000/data?technology=MongoDB&location=Los+Angeles\n",
      "Excel file 'job-postings.xlsx' has been created.\n"
     ]
    }
   ],
   "source": [
    "# your code goes here\n",
    "import requests\n",
    "from openpyxl import Workbook\n",
    "\n",
    "# API endpoint\n",
    "api_url = \"http://127.0.0.1:5000/data\"\n",
    "\n",
    "# List of programming languages\n",
    "languages = ['C', 'C#', 'C++', 'Java', 'JavaScript', 'Python', 'Scala', 'Oracle', 'SQL Server', 'MySQL Server', 'PostgreSQL', 'MongoDB']\n",
    "\n",
    "# Locations to search (you can add more locations if needed)\n",
    "locations = ['Los Angeles']\n",
    "\n",
    "# Function to get the number of job postings for a specific language and location\n",
    "def get_number_of_jobs_L(language, location):\n",
    "    params = {\n",
    "        'technology': language,\n",
    "        'location': location\n",
    "    }\n",
    "    try:\n",
    "        response = requests.get(api_url, params=params)\n",
    "        response.raise_for_status()  # Check if the request was successful\n",
    "        data = response.json()  # Convert the response to JSON\n",
    "        number_of_jobs = len(data)  # Get the number of available jobs\n",
    "        return number_of_jobs\n",
    "    except requests.exceptions.HTTPError as errh:\n",
    "        print(f\"HTTP error occurred: {errh}\")\n",
    "        return 0\n",
    "    except requests.exceptions.RequestException as err:\n",
    "        print(f\"Error occurred: {err}\")\n",
    "        return 0\n",
    "\n",
    "# Create a new Excel file and select the active sheet\n",
    "wb = Workbook()\n",
    "ws = wb.active\n",
    "ws.append(['Language', 'Location', 'Number of Jobs'])\n",
    "\n",
    "# Collect the number of job postings for each language and location and write the results\n",
    "for language in languages:\n",
    "    for location in locations:\n",
    "        number_of_jobs = get_number_of_jobs_L(language, location)\n",
    "        ws.append([language, location, number_of_jobs])\n",
    "\n",
    "# Save the results in an Excel file\n",
    "wb.save('job-postings.xlsx')\n",
    "print(\"Excel file 'job-postings.xlsx' has been created.\")\n",
    "\n"
   ]
  },
  {
   "cell_type": "markdown",
   "metadata": {},
   "source": [
    "## Authors\n"
   ]
  },
  {
   "cell_type": "markdown",
   "metadata": {},
   "source": [
    "Ayushi Jain\n"
   ]
  },
  {
   "cell_type": "markdown",
   "metadata": {},
   "source": [
    "### Other Contributors\n"
   ]
  },
  {
   "cell_type": "markdown",
   "metadata": {},
   "source": [
    "Rav Ahuja\n",
    "\n",
    "Lakshmi Holla\n",
    "\n",
    "Malika\n"
   ]
  },
  {
   "cell_type": "markdown",
   "metadata": {},
   "source": [
    "Copyright © IBM Corporation.\n"
   ]
  },
  {
   "cell_type": "markdown",
   "metadata": {},
   "source": [
    "<!--## Change Log\n"
   ]
  },
  {
   "cell_type": "markdown",
   "metadata": {},
   "source": [
    "<!--| Date (YYYY-MM-DD) | Version | Changed By        | Change Description                 |\n",
    "| ----------------- | ------- | ----------------- | ---------------------------------- | \n",
    "| 2022-01-19        | 0.3     | Lakshmi Holla        | Added changes in the markdown      |\n",
    "| 2021-06-25        | 0.2     | Malika            | Updated GitHub job json link       |\n",
    "| 2020-10-17        | 0.1     | Ramesh Sannareddy | Created initial version of the lab |--!>\n"
   ]
  }
 ],
 "metadata": {
  "kernelspec": {
   "display_name": "Python",
   "language": "python",
   "name": "conda-env-python-py"
  },
  "language_info": {
   "codemirror_mode": {
    "name": "ipython",
    "version": 3
   },
   "file_extension": ".py",
   "mimetype": "text/x-python",
   "name": "python",
   "nbconvert_exporter": "python",
   "pygments_lexer": "ipython3",
   "version": "3.7.12"
  },
  "prev_pub_hash": "e29b6a88d6a20cab9ede1c245a546bf70b4dd72eac04ff1fb0eee5661cdd8093"
 },
 "nbformat": 4,
 "nbformat_minor": 4
}
